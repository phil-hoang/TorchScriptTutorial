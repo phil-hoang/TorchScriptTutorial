{
 "cells": [
  {
   "cell_type": "markdown",
   "metadata": {},
   "source": [
    "# Export_Model.ipynb\n",
    "\n",
    "Objective: Take a model in pytorch from python and export it to C++.\n",
    "\n",
    "Tutorial can be found at https://brsoff.github.io/tutorials/advanced/cpp_export.html"
   ]
  },
  {
   "cell_type": "code",
   "execution_count": 1,
   "metadata": {},
   "outputs": [],
   "source": [
    "import torch\n",
    "import torchvision\n",
    "\n",
    "# Select a model from torchvision\n",
    "model = torchvision.models.resnet18()\n",
    "\n",
    "# An example input that you would normally provide for the model's forward method\n",
    "example = torch.rand(1,3,224,224)\n",
    "\n",
    "# Use torch.jit.trace to create a traced jit model\n",
    "traced_script_module = torch.jit.trace(model, example)\n"
   ]
  },
  {
   "cell_type": "code",
   "execution_count": 2,
   "metadata": {},
   "outputs": [
    {
     "data": {
      "text/plain": [
       "tensor([ 0.4517,  0.5536, -0.7657, -0.5666, -0.5219], grad_fn=<SliceBackward>)"
      ]
     },
     "execution_count": 2,
     "metadata": {},
     "output_type": "execute_result"
    }
   ],
   "source": [
    "# Can now use the traced model like before\n",
    "output = traced_script_module(torch.ones(1,3,244,244))\n",
    "output[0, :5]"
   ]
  },
  {
   "cell_type": "code",
   "execution_count": 4,
   "metadata": {},
   "outputs": [],
   "source": [
    "# Save the model for export into C++\n",
    "traced_script_module.save(\"resnet18.pt\")"
   ]
  },
  {
   "cell_type": "code",
   "execution_count": null,
   "metadata": {},
   "outputs": [],
   "source": []
  }
 ],
 "metadata": {
  "kernelspec": {
   "display_name": "Python 3",
   "language": "python",
   "name": "python3"
  },
  "language_info": {
   "codemirror_mode": {
    "name": "ipython",
    "version": 3
   },
   "file_extension": ".py",
   "mimetype": "text/x-python",
   "name": "python",
   "nbconvert_exporter": "python",
   "pygments_lexer": "ipython3",
   "version": "3.7.9"
  }
 },
 "nbformat": 4,
 "nbformat_minor": 4
}
